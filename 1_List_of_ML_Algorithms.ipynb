{
  "nbformat": 4,
  "nbformat_minor": 0,
  "metadata": {
    "colab": {
      "provenance": [],
      "authorship_tag": "ABX9TyMo2T6ZQnSWZAGHg6s4Ogt8",
      "include_colab_link": true
    },
    "kernelspec": {
      "name": "python3",
      "display_name": "Python 3"
    },
    "language_info": {
      "name": "python"
    }
  },
  "cells": [
    {
      "cell_type": "markdown",
      "metadata": {
        "id": "view-in-github",
        "colab_type": "text"
      },
      "source": [
        "<a href=\"https://colab.research.google.com/github/Steve-siddu/Machine-Learning/blob/main/1_List_of_ML_Algorithms.ipynb\" target=\"_parent\"><img src=\"https://colab.research.google.com/assets/colab-badge.svg\" alt=\"Open In Colab\"/></a>"
      ]
    },
    {
      "cell_type": "markdown",
      "source": [
        "**Machine Learning Problems Categories**\n",
        "\n",
        "\n",
        "1.   Supervised Learning\n",
        "2.   Unsupervised Learning\n",
        "3.   Reinforcement Learning\n",
        "\n"
      ],
      "metadata": {
        "id": "dkfqD_1AM4Sk"
      }
    },
    {
      "cell_type": "markdown",
      "source": [
        "**1. Supervised Learning**\n",
        "\n",
        "  Supervised learning involves training labelled data with the output data, the objective is to train the model to map from input features to output in such a way that it can predict the outputs of a observation that the model has never seen in an accurate manner.\n",
        "\n",
        "  **Supervised Learning Algorithms**\n",
        "\n",
        "\n",
        "**1.   Linear Regression**:\n",
        "It's a regression algorithm that models the relationship between the input features and the continuous target variable.\n",
        "\n",
        "**2.   Logistic Regression**:\n",
        "This algorithm is used for classification tasks, where it models the probability of a binary outcome based on the input features.\n",
        "\n",
        "**3.   Decision Trees**:\n",
        "Decision trees create a tree-like model that partitions the data based on feature values to make predictions.\n",
        "\n",
        "\n",
        "**4.   Random Forest**:\n",
        "A random forest is an ensemble of decision trees, where predictions are made by aggregating the predictions of individual trees.\n",
        "\n",
        "**5.   Support Vector Machines (SVM)**:\n",
        "SVM finds a hyperplane that best separates different classes in the input data.\n",
        "\n",
        "**6.   Neural Networks**:\n",
        " Neural networks consist of interconnected nodes (neurons) that can learn complex patterns from data, making them highly flexible for various tasks.\n",
        "\n",
        "\n"
      ],
      "metadata": {
        "id": "0ShLLrT6Na0M"
      }
    },
    {
      "cell_type": "markdown",
      "source": [
        "**2. Unsupervised Machine Learning**\n",
        "\n",
        "Unsupervised machine learning involves non-labelled data, which means for each observation there is no explicit target labels. The objective of the model is to find the patterns, structures, and relationships between different types of observation in the given data.\n",
        "\n",
        "**Unsupervised Machine Learning Algorithms**\n",
        "\n",
        "\n",
        "\n",
        "1.   **K-Means Clustering**:\n",
        "It's a clustering algorithm that partitions data into K distinct clusters based on the similarity of their features.\n",
        "2.   **Hierarchical Clustering**:\n",
        "This algorithm creates a hierarchy of clusters by merging or splitting them based on their similarity.\n",
        "3.   **Principal Component Analysis (PCA)**:\n",
        "PCA reduces the dimensionality of the data by finding the most important orthogonal components, known as principal components.\n",
        "4.   **Gaussian Mixture Models (GMM)**:\n",
        "GMM assumes that the data is generated from a mixture of Gaussian distributions, enabling the identification of underlying clusters.\n",
        "5.   **Association Rule Learning**:\n",
        "This technique discovers relationships between variables in large datasets, often used for market basket analysis or recommendation systems.\n",
        "\n"
      ],
      "metadata": {
        "id": "JTn2gG3lRZWy"
      }
    },
    {
      "cell_type": "markdown",
      "source": [
        "**3. Reinforcement Learning**\n",
        "\n",
        "Reinforcement learning involves an agent learning to make sequential decisions through trial and error. The agent interacts with an environment and receives feedback in the form of rewards or penalties to learn optimal behavior.\n",
        "\n",
        "\n",
        "\n",
        "1.   **Q-Learning**: Q-Learning is a model-free reinforcement learning algorithm that uses a value function to estimate the expected future rewards for each action in a given state.\n",
        "2.   **Deep Q-Network (DQN)**: DQN combines Q-Learning with deep neural networks to handle high-dimensional state spaces, commonly used for playing games.\n",
        "2.   **Policy Gradient**: This algorithm directly optimizes the policy function to learn the best action selection strategy.\n",
        "2.   **Proximal Policy Optimization (PPO)**: PPO is an actor-critic algorithm that iteratively updates the policy and value function, striking a balance between exploration and exploitation.\n",
        "\n",
        "\n"
      ],
      "metadata": {
        "id": "9A5P4uDXUCu6"
      }
    }
  ]
}